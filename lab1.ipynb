{
 "cells": [
  {
   "cell_type": "code",
   "execution_count": 1,
   "metadata": {
    "collapsed": true,
    "deletable": true,
    "editable": true
   },
   "outputs": [],
   "source": [
    "import tensorflow as tf"
   ]
  },
  {
   "cell_type": "code",
   "execution_count": 2,
   "metadata": {
    "collapsed": false,
    "deletable": true,
    "editable": true
   },
   "outputs": [
    {
     "name": "stdout",
     "output_type": "stream",
     "text": [
      "b'Hello, TensorFlow!'\n"
     ]
    }
   ],
   "source": [
    "# create a constant op\n",
    "# This op is added as a node to the default graph\n",
    "# 문자열이 들어있는 하나의 텐서플로우 constant 노드가 만들어 진 것이다\n",
    "hello = tf.constant(\"Hello, TensorFlow!\")\n",
    "\n",
    "# start a TF session \n",
    "# constant를 실행하기 위해서는 session이란 것을 만들어야 한다.\n",
    "sess = tf.Session()\n",
    "\n",
    "# run the op and get result\n",
    "# hello 라는 노드를 실행시킨다\n",
    "# 출력시 앞에 뜨는 'b' : bytestream @python3\n",
    "print(sess.run(hello))"
   ]
  },
  {
   "cell_type": "code",
   "execution_count": 3,
   "metadata": {
    "collapsed": true,
    "deletable": true,
    "editable": true
   },
   "outputs": [],
   "source": [
    "# STEP1 : Build graph(tensors) using TF operations\n",
    "\n",
    "node1 = tf.constant(3.0, tf.float32)\n",
    "node2 = tf.constant(4.0) # also tf.float32 implicitly\n",
    "node3 = tf.add(node1, node2) # == node3 = node1+node2\n",
    "# node3은 더하기 노드가 될 것이다."
   ]
  },
  {
   "cell_type": "code",
   "execution_count": 4,
   "metadata": {
    "collapsed": false,
    "deletable": true,
    "editable": true
   },
   "outputs": [
    {
     "name": "stdout",
     "output_type": "stream",
     "text": [
      "node1 :  Tensor(\"Const_1:0\", shape=(), dtype=float32) node2 :  Tensor(\"Const_2:0\", shape=(), dtype=float32)\n",
      "node3 :  Tensor(\"Add:0\", shape=(), dtype=float32)\n"
     ]
    }
   ],
   "source": [
    "print(\"node1 : \",node1, \"node2 : \", node2)\n",
    "print(\"node3 : \", node3)\n",
    "\n",
    "# print의 결과값 : 그냥 단순히 각 노드가 텐서임을 보여준다. 결과값 안나옴"
   ]
  },
  {
   "cell_type": "code",
   "execution_count": 5,
   "metadata": {
    "collapsed": false,
    "deletable": true,
    "editable": true
   },
   "outputs": [
    {
     "name": "stdout",
     "output_type": "stream",
     "text": [
      "sess.run(node1, node2) :  [3.0, 4.0]\n",
      "sess.run(node3) :  7.0\n"
     ]
    }
   ],
   "source": [
    "# STEP2 : feed data and run graph(operation) -> sess.run(op)\n",
    "# STEP3 : update variables in the graph(and return values)\n",
    "\n",
    "sess = tf.Session()\n",
    "\n",
    "# 따라서 결과 값을 나오게 하고 싶다면 세션을 만들고, 그 세션을 run해서 그래프의 노드를 실행시킨다\n",
    "print(\"sess.run(node1, node2) : \", sess.run([node1,node2]))\n",
    "print(\"sess.run(node3) : \", sess.run(node3)) # 더하기 노드 실행시키자"
   ]
  },
  {
   "cell_type": "code",
   "execution_count": 7,
   "metadata": {
    "collapsed": false,
    "deletable": true,
    "editable": true
   },
   "outputs": [
    {
     "name": "stdout",
     "output_type": "stream",
     "text": [
      "7.5\n",
      "[ 3.  7.]\n"
     ]
    }
   ],
   "source": [
    "# node를 \"placeholder\" 라는 특별한 노드로 만들어준다.\n",
    "# placeholder : 프로그램 실행 중 값을 변경할 수 있는 심볼릭 변수. double a / int b 같은거인듯..\n",
    "a = tf.placeholder(tf.float32)\n",
    "b = tf.placeholder(tf.float32)\n",
    "adder_node = a+b # + probides a shortcut for tf.add(a,b)\n",
    "\n",
    "print(sess.run(adder_node, feed_dict={a:3, b:4.5}))\n",
    "print(sess.run(adder_node, feed_dict={a:[1,3], b:[2,4]}))"
   ]
  }
 ],
 "metadata": {
  "kernelspec": {
   "display_name": "Python 3",
   "language": "python",
   "name": "python3"
  },
  "language_info": {
   "codemirror_mode": {
    "name": "ipython",
    "version": 3
   },
   "file_extension": ".py",
   "mimetype": "text/x-python",
   "name": "python",
   "nbconvert_exporter": "python",
   "pygments_lexer": "ipython3",
   "version": "3.6.0"
  }
 },
 "nbformat": 4,
 "nbformat_minor": 2
}
