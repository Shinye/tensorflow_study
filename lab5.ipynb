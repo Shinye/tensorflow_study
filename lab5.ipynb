{
 "cells": [
  {
   "cell_type": "code",
   "execution_count": 1,
   "metadata": {
    "collapsed": true
   },
   "outputs": [],
   "source": [
    "import tensorflow as tf"
   ]
  },
  {
   "cell_type": "code",
   "execution_count": 2,
   "metadata": {
    "collapsed": true
   },
   "outputs": [],
   "source": [
    "x_data = [[1,2],[2,3],[3,1],[4,3],[5,3],[6,2]]\n",
    "y_data = [[0],[0],[0],[1],[1],[1]]\n",
    "\n",
    "# placeholders for a tensor that will be always fed\n",
    "X = tf.placeholder(tf.float32, shape=[None, 2])\n",
    "Y = tf.placeholder(tf.float32, shape=[None, 1])"
   ]
  },
  {
   "cell_type": "code",
   "execution_count": 3,
   "metadata": {
    "collapsed": true
   },
   "outputs": [],
   "source": [
    "# variable : 학습을 통해 구해야 하는 값\n",
    "# random_normal(shape) : Outputs random values from a normal distribution.\n",
    "W = tf.Variable(tf.random_normal([2,1]), name = 'weight')\n",
    "b = tf.Variable(tf.random_normal([1]), name = 'bias')\n",
    "\n",
    "# Hypothesis using sigmoid : tf.div(1.,1. + tf.exp(tf.matmul(X,W)))\n",
    "# 시그모이드 함수로 새로 만들어진 H(X) 작성. 자연상수 위의 지수로 올라갈 값을 sigmoid() 매개변수로 넣어준다.\n",
    "hypothesis = tf.sigmoid(tf.matmul(X,W)+b)\n",
    "\n",
    "# cost/loss function\n",
    "cost = -tf.reduce_mean(Y*tf.log(hypothesis)+(1-Y)*tf.log(1-hypothesis))\n",
    "train = tf.train.GradientDescentOptimizer(learning_rate=0.01).minimize(cost)"
   ]
  },
  {
   "cell_type": "code",
   "execution_count": 4,
   "metadata": {
    "collapsed": true
   },
   "outputs": [],
   "source": [
    "# Accuracy computation\n",
    "# True if hypothesis>0.5 else False\n",
    "# cast : 자료형 형변환. true를 1로, false를 0으로 형변환 해준다.\n",
    "predicted = tf.cast(hypothesis>0.5, dtype = tf.float32)\n",
    "accuracy = tf.reduce_mean(tf.cast(tf.equal(predicted,Y), dtype=tf.float32))"
   ]
  },
  {
   "cell_type": "code",
   "execution_count": 6,
   "metadata": {
    "collapsed": false
   },
   "outputs": [
    {
     "name": "stdout",
     "output_type": "stream",
     "text": [
      "0 1.6464\n",
      "200 0.373619\n",
      "400 0.361339\n",
      "600 0.350033\n",
      "800 0.339342\n",
      "1000 0.329204\n",
      "1200 0.319572\n",
      "1400 0.310412\n",
      "1600 0.301694\n",
      "1800 0.29339\n",
      "2000 0.285476\n",
      "2200 0.27793\n",
      "2400 0.270731\n",
      "2600 0.263859\n",
      "2800 0.257296\n",
      "3000 0.251024\n",
      "3200 0.245026\n",
      "3400 0.239288\n",
      "3600 0.233794\n",
      "3800 0.228531\n",
      "4000 0.223487\n",
      "4200 0.218649\n",
      "4400 0.214006\n",
      "4600 0.209547\n",
      "4800 0.205263\n",
      "5000 0.201145\n",
      "5200 0.197183\n",
      "5400 0.19337\n",
      "5600 0.189697\n",
      "5800 0.186158\n",
      "6000 0.182746\n",
      "6200 0.179454\n",
      "6400 0.176278\n",
      "6600 0.17321\n",
      "6800 0.170246\n",
      "7000 0.16738\n",
      "7200 0.164609\n",
      "7400 0.161928\n",
      "7600 0.159332\n",
      "7800 0.156818\n",
      "8000 0.154382\n",
      "8200 0.152021\n",
      "8400 0.149731\n",
      "8600 0.147509\n",
      "8800 0.145353\n",
      "9000 0.143259\n",
      "9200 0.141225\n",
      "9400 0.139248\n",
      "9600 0.137327\n",
      "9800 0.135459\n",
      "10000 0.133641\n",
      "\n",
      "Hypothesis:  [[ 0.02436408]\n",
      " [ 0.14918497]\n",
      " [ 0.27272832]\n",
      " [ 0.79647553]\n",
      " [ 0.94868624]\n",
      " [ 0.98326808]] \n",
      "Correct (Y):  [[ 0.]\n",
      " [ 0.]\n",
      " [ 0.]\n",
      " [ 1.]\n",
      " [ 1.]\n",
      " [ 1.]] \n",
      "Accuracy:  1.0\n"
     ]
    }
   ],
   "source": [
    "# Launch Graph\n",
    "with tf.Session() as sess:\n",
    "    #initialize tensorflow variables\n",
    "    sess.run(tf.global_variables_initializer())\n",
    "    \n",
    "    for step in range(10001):\n",
    "        cost_val, _ = sess.run([cost,train], feed_dict={X:x_data, Y:y_data})\n",
    "        if step%200 == 0:\n",
    "            print(step, cost_val)\n",
    "        \n",
    "    # Accuracy report\n",
    "    h,c,a = sess.run([hypothesis, predicted, accuracy],\n",
    "                     feed_dict={X:x_data, Y:y_data})\n",
    "    print(\"\\nHypothesis: \",h,\"\\nCorrect (Y): \",c,\"\\nAccuracy: \",a)"
   ]
  }
 ],
 "metadata": {
  "kernelspec": {
   "display_name": "Python 3",
   "language": "python",
   "name": "python3"
  },
  "language_info": {
   "codemirror_mode": {
    "name": "ipython",
    "version": 3
   },
   "file_extension": ".py",
   "mimetype": "text/x-python",
   "name": "python",
   "nbconvert_exporter": "python",
   "pygments_lexer": "ipython3",
   "version": "3.6.0"
  }
 },
 "nbformat": 4,
 "nbformat_minor": 2
}
