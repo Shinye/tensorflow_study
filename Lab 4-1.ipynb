{
 "cells": [
  {
   "cell_type": "code",
   "execution_count": 1,
   "metadata": {
    "collapsed": true
   },
   "outputs": [],
   "source": [
    "import tensorflow as tf"
   ]
  },
  {
   "cell_type": "code",
   "execution_count": 4,
   "metadata": {},
   "outputs": [],
   "source": [
    "x_data = [[73.,80.,75.], [93., 88., 93.], [89., 91., 90.], [96., 98., 100.], [73., 66., 70.]]\n",
    "y_data = [[152.],[185.], [180.], [196.], [142.]]\n",
    "\n",
    "# placeholders for a tensor that will be always fed.\n",
    "X = tf.placeholder(tf.float32, shape = [None, 3])\n",
    "Y = tf.placeholder(tf.float32, shape = [None, 1])\n",
    "\n",
    "W = tf.Variable(tf.random_normal([3,1]), name='weight')\n",
    "b = tf.Variable(tf.random_normal([1]), name='bias')\n",
    "\n",
    "# Hypothesis\n",
    "hypothesis = tf.matmul(X,W)+b\n",
    "# Simplified cost/loss function\n",
    "cost = tf.reduce_mean(tf.square(hypothesis-Y))\n",
    "# Minimize\n",
    "optimizer = tf.train.GradientDescentOptimizer(learning_rate=1e-5)\n",
    "train = optimizer.minimize(cost)"
   ]
  },
  {
   "cell_type": "code",
   "execution_count": 7,
   "metadata": {},
   "outputs": [
    {
     "name": "stdout",
     "output_type": "stream",
     "text": [
      "0 Cost:  2112.18 \n",
      "Prediction:\n",
      " [[ 110.72614288]\n",
      " [ 135.65472412]\n",
      " [ 132.41201782]\n",
      " [ 143.29734802]\n",
      " [ 104.84853363]]\n",
      "200 Cost:  0.183217 \n",
      "Prediction:\n",
      " [[ 151.50915527]\n",
      " [ 184.66183472]\n",
      " [ 180.70521545]\n",
      " [ 195.88780212]\n",
      " [ 142.22557068]]\n",
      "400 Cost:  0.182499 \n",
      "Prediction:\n",
      " [[ 151.51461792]\n",
      " [ 184.65800476]\n",
      " [ 180.70677185]\n",
      " [ 195.88987732]\n",
      " [ 142.21974182]]\n",
      "600 Cost:  0.181835 \n",
      "Prediction:\n",
      " [[ 151.51977539]\n",
      " [ 184.65438843]\n",
      " [ 180.70820618]\n",
      " [ 195.89190674]\n",
      " [ 142.21417236]]\n",
      "800 Cost:  0.181245 \n",
      "Prediction:\n",
      " [[ 151.52462769]\n",
      " [ 184.6509552 ]\n",
      " [ 180.70957947]\n",
      " [ 195.89381409]\n",
      " [ 142.20889282]]\n",
      "1000 Cost:  0.180701 \n",
      "Prediction:\n",
      " [[ 151.52920532]\n",
      " [ 184.64768982]\n",
      " [ 180.71084595]\n",
      " [ 195.89567566]\n",
      " [ 142.20384216]]\n",
      "1200 Cost:  0.180199 \n",
      "Prediction:\n",
      " [[ 151.53353882]\n",
      " [ 184.64466858]\n",
      " [ 180.71205139]\n",
      " [ 195.89750671]\n",
      " [ 142.19906616]]\n",
      "1400 Cost:  0.179748 \n",
      "Prediction:\n",
      " [[ 151.53761292]\n",
      " [ 184.64176941]\n",
      " [ 180.71318054]\n",
      " [ 195.89924622]\n",
      " [ 142.19450378]]\n",
      "1600 Cost:  0.179326 \n",
      "Prediction:\n",
      " [[ 151.54144287]\n",
      " [ 184.63905334]\n",
      " [ 180.71421814]\n",
      " [ 195.90093994]\n",
      " [ 142.19013977]]\n",
      "1800 Cost:  0.178942 \n",
      "Prediction:\n",
      " [[ 151.5450592 ]\n",
      " [ 184.63647461]\n",
      " [ 180.7151947 ]\n",
      " [ 195.90257263]\n",
      " [ 142.18598938]]\n",
      "2000 Cost:  0.178589 \n",
      "Prediction:\n",
      " [[ 151.54846191]\n",
      " [ 184.63404846]\n",
      " [ 180.71611023]\n",
      " [ 195.90415955]\n",
      " [ 142.18203735]]\n"
     ]
    }
   ],
   "source": [
    "# Launch the graph in a session\n",
    "sess = tf.Session()\n",
    "sess.run(tf.global_variables_initializer())\n",
    "\n",
    "for step in range(2001):\n",
    "    cost_val, hy_val, _ = sess.run(\n",
    "        [cost, hypothesis, train], feed_dict={X: x_data, Y: y_data})\n",
    "    if step%200 == 0:\n",
    "        print(step, \"Cost: \", cost_val, \"\\nPrediction:\\n\", hy_val)\n",
    "        \n"
   ]
  }
 ],
 "metadata": {
  "kernelspec": {
   "display_name": "Python 3",
   "language": "python",
   "name": "python3"
  },
  "language_info": {
   "codemirror_mode": {
    "name": "ipython",
    "version": 3
   },
   "file_extension": ".py",
   "mimetype": "text/x-python",
   "name": "python",
   "nbconvert_exporter": "python",
   "pygments_lexer": "ipython3",
   "version": "3.6.0"
  }
 },
 "nbformat": 4,
 "nbformat_minor": 2
}
